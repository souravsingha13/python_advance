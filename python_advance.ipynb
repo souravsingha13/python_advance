{
 "cells": [
  {
   "cell_type": "code",
   "execution_count": 29,
   "id": "073403d5-3fc1-4cb6-a8f5-5d925bea0393",
   "metadata": {},
   "outputs": [
    {
     "name": "stdout",
     "output_type": "stream",
     "text": [
      "[1, 4, 9, 16, 25]\n",
      "[1, 4, 9, 16, 25]\n",
      "[4, 8, 6, 5, 3, 2, 8, 9, 2, 5]\n",
      "[2, 1, 0, 1, 2]\n",
      "[7, 2, 4, 6]\n",
      "[1, 1, 1]\n",
      "['Processing', 'Strings', 'With', 'Map']\n",
      "['PROCESSING', 'STRINGS', 'WITH', 'MAP']\n",
      "[1, 4, 9, 16, 25]\n"
     ]
    }
   ],
   "source": [
    "# Python map function\n",
    "\n",
    "# Normal Process\n",
    "numbers = [1, 2, 3, 4, 5]\n",
    "square = []\n",
    "for item in numbers:\n",
    "    square.append(item**2)\n",
    "print(square)\n",
    "\n",
    "#Using map\n",
    "\n",
    "def square(item):\n",
    "    return item**2\n",
    "\n",
    "squared = map(square, numbers)\n",
    "# for item in squared:\n",
    "#     print(item)\n",
    "print(list(squared))\n",
    "\n",
    "# Convert all the items in a list from a string to an integer number\n",
    "str_nums = [\"4\", \"8\", \"6\", \"5\", \"3\", \"2\", \"8\", \"9\", \"2\", \"5\"]\n",
    "int_nums = map(int,str_nums)\n",
    "print(list(int_nums))\n",
    "\n",
    "#Use build in function in map \n",
    "number_list = [-2, -1, 0, 1, 2]\n",
    "absulate_value = list(map(abs,number_list))\n",
    "print(absulate_value)\n",
    "# Return length of a words list\n",
    "words = [\"Welcome\", \"to\", \"Real\", \"Python\"]\n",
    "length = list(map(len,words))\n",
    "print(length)\n",
    "\n",
    "\n",
    "#Use lambda function in map\n",
    "print(list(map(lambda x,y : x-y, [2, 4, 6], [1, 3, 5])))\n",
    "\n",
    "# Capitalize word\n",
    "string_it = [\"processing\", \"strings\", \"with\", \"map\"]\n",
    "print(list(map(str.capitalize , string_it)))\n",
    "print(list(map(str.upper , string_it)))\n",
    "\n",
    "#list comprehension\n",
    "print([square(x) for x in numbers])"
   ]
  },
  {
   "cell_type": "code",
   "execution_count": 3,
   "id": "391a111c-e611-4f63-9043-1d4a018ee1cd",
   "metadata": {},
   "outputs": [
    {
     "name": "stdout",
     "output_type": "stream",
     "text": [
      "<function outter_function.<locals>.inner_function at 0x0000023C6D74A3A0>\n",
      "20\n"
     ]
    }
   ],
   "source": [
    "#Closure \n",
    "def outter_function(x):\n",
    "    def inner_function(n):\n",
    "        return x*n\n",
    "    return inner_function\n",
    "a = outter_function(5)\n",
    "print(a)\n",
    "b = a(4)\n",
    "print(b)"
   ]
  },
  {
   "cell_type": "code",
   "execution_count": 5,
   "id": "63512a20-4984-4c32-82b5-686cc1ac3bd2",
   "metadata": {},
   "outputs": [
    {
     "name": "stdout",
     "output_type": "stream",
     "text": [
      "Before the my fun is called.\n",
      "Hello from my fun.\n",
      "After the my fun is called.\n"
     ]
    }
   ],
   "source": [
    "# Decorators \n",
    "def my_decorator(my_fun):\n",
    "    def wrapper():\n",
    "        print(\"Before the my fun is called.\")\n",
    "        my_fun()\n",
    "        print(\"After the my fun is called.\")\n",
    "    return wrapper\n",
    "\n",
    "@my_decorator\n",
    "def my_fun():\n",
    "    print(\"Hello from my fun.\")\n",
    "my_fun()"
   ]
  },
  {
   "cell_type": "code",
   "execution_count": 11,
   "id": "44825059-b732-4e53-b00b-5e5b2b502e48",
   "metadata": {},
   "outputs": [
    {
     "name": "stdout",
     "output_type": "stream",
     "text": [
      "This is from __init__.\n",
      "<__main__.MyDecorator object at 0x0000023C6D7690D0>\n",
      "This is from __call__.\n",
      "None\n",
      "Test is calling.\n",
      "Test is calling.\n"
     ]
    }
   ],
   "source": [
    "# Prerequisite for Class based decorator\n",
    "\n",
    "class MyDecorator:\n",
    "    def __init__(self):\n",
    "        print(\"This is from __init__.\")\n",
    "    def __call__(self):\n",
    "        print(\"This is from __call__.\")\n",
    "# __init__ method is invoked immediate after intiating the class.\n",
    "a = MyDecorator()\n",
    "print(a)\n",
    "# __call__ method is invoked after initiate the instance.\n",
    "# Instances of classes can be made callable by defining a __call__ method in their class.\n",
    "b=a()\n",
    "print(b)\n",
    "\n",
    "def test():\n",
    "    print(\"Test is calling.\")\n",
    "# When we call a function by -> () that indirectly call __call__().So the following two lines of code are same. \n",
    "test()\n",
    "test.__call__()\n",
    "        "
   ]
  },
  {
   "cell_type": "code",
   "execution_count": 14,
   "id": "6929967a-c6ab-4003-a358-4dad20a45a90",
   "metadata": {},
   "outputs": [
    {
     "name": "stdout",
     "output_type": "stream",
     "text": [
      "Before calling my_fun.\n",
      "Hello from my_fun.\n",
      "After calling my_fun.\n"
     ]
    }
   ],
   "source": [
    "# Class based decorator\n",
    "class MyDecorator:\n",
    "    def __init__(self, my_fun):\n",
    "        self.my_fun = my_fun\n",
    "    def __call__(self):\n",
    "        print(\"Before calling my_fun.\")\n",
    "        self.my_fun()\n",
    "        print(\"After calling my_fun.\")\n",
    "\n",
    "@MyDecorator\n",
    "def my_fun():\n",
    "    print(\"Hello from my_fun.\")\n",
    "my_fun()"
   ]
  },
  {
   "cell_type": "code",
   "execution_count": 2,
   "id": "b2c8d099-1f60-4b39-8c31-cbf1a227bc95",
   "metadata": {},
   "outputs": [
    {
     "name": "stdout",
     "output_type": "stream",
     "text": [
      "Sourav\n",
      "sudipta\n",
      "3\n"
     ]
    }
   ],
   "source": [
    "# @classmethod decorator\n",
    "\n",
    "class Person:\n",
    "  total_person = 0\n",
    "  def __init__(self, name, age):\n",
    "    self.name = name\n",
    "    self.age = age\n",
    "    Person.total_person += 1\n",
    "  \n",
    "  @classmethod\n",
    "  def create_from_string(cls, data_string):\n",
    "    name, age = data_string.split(',')\n",
    "    return cls(name, int(age))\n",
    "  \n",
    "  @classmethod\n",
    "  def get_total_person(cls):\n",
    "    return cls.total_person\n",
    "  \n",
    "person1 = Person(\"Sourav\", 29)\n",
    "person2 = Person(\"Reza\", 29)\n",
    "\n",
    "\n",
    "print(person1.name)\n",
    "\n",
    "person3 = Person.create_from_string(\"sudipta,27\")\n",
    "\n",
    "print(person3.name)\n",
    "print(Person.get_total_person())"
   ]
  },
  {
   "cell_type": "code",
   "execution_count": 4,
   "id": "350b2bf4-8ff1-47a1-aa9e-d2801b3f2c81",
   "metadata": {},
   "outputs": [
    {
     "name": "stdout",
     "output_type": "stream",
     "text": [
      "7\n",
      "12\n"
     ]
    }
   ],
   "source": [
    "# @staticmethod decorator\n",
    "# staticmethod is a regular functions defined within the class.\n",
    "class MathUtils:\n",
    "    @staticmethod\n",
    "    def add(x,y):\n",
    "        return x+y\n",
    "    @staticmethod\n",
    "    def multiplication(x,y):\n",
    "        return x*y\n",
    "\n",
    "add_result = MathUtils.add(3,4)\n",
    "print(add_result)\n",
    "multiplication_result = MathUtils.multiplication(3,4)\n",
    "print(multiplication_result)"
   ]
  },
  {
   "cell_type": "code",
   "execution_count": 6,
   "id": "d977cc67-226d-4b2e-9fbc-14cb5e210800",
   "metadata": {},
   "outputs": [
    {
     "name": "stdout",
     "output_type": "stream",
     "text": [
      "10\n",
      "31.4\n"
     ]
    }
   ],
   "source": [
    "# @property decorator\n",
    "# The property decorator allows you to define methods that can be accessed like attributes \n",
    "# Providing a way to implement computed or dynamic properties.\n",
    "class Circle:\n",
    "  def __init__(self,radius):\n",
    "    self.radius = radius\n",
    "  \n",
    "  @property\n",
    "  def diameter(self):\n",
    "    return 2*self.radius\n",
    "  \n",
    "  @property\n",
    "  def area(self):\n",
    "    ronded_area=round((3.14*self.radius*2),2)\n",
    "    return ronded_area\n",
    "    \n",
    "c1 = Circle(5)\n",
    "print(c1.diameter)\n",
    "print(c1.area)"
   ]
  },
  {
   "cell_type": "code",
   "execution_count": 9,
   "id": "9db12ab9-f8e8-44f5-8480-602510d20100",
   "metadata": {},
   "outputs": [
    {
     "name": "stdout",
     "output_type": "stream",
     "text": [
      "31.400000000000002\n",
      "6.0\n"
     ]
    }
   ],
   "source": [
    "# @abostractmethod abstractclass\n",
    "# The class contains one or many @abstractmehtod is called abstract class. \n",
    "from abc import ABC, abstractmethod\n",
    "\n",
    "class Shape(ABC):\n",
    "  @abstractmethod\n",
    "  def area(self):\n",
    "    pass\n",
    "\n",
    "class Circle(Shape):\n",
    "  def __init__(self,radius):\n",
    "    self.radius = radius\n",
    "  \n",
    "  def area(self):\n",
    "    return 2*3.14*self.radius\n",
    "    \n",
    "class Triangle(Shape):\n",
    "  def __init__(self,height,weight):\n",
    "    self.height = height\n",
    "    self.weight = weight\n",
    "    \n",
    "  def area(self):\n",
    "    return 0.5*self.height*self.weight\n",
    "    \n",
    "c1 = Circle(5)\n",
    "t1 = Triangle(4,3)\n",
    "\n",
    "print(c1.area())\n",
    "print(t1.area())"
   ]
  },
  {
   "cell_type": "code",
   "execution_count": 17,
   "id": "8a290059-08bf-4149-9376-902aa609b018",
   "metadata": {},
   "outputs": [
    {
     "name": "stdout",
     "output_type": "stream",
     "text": [
      "Person(name=Sourav,age=29,city=Narail)\n",
      "True\n"
     ]
    }
   ],
   "source": [
    "# python dataclass\n",
    "\n",
    "class Person():\n",
    "    def __init__(self,name,age,city):\n",
    "        self.name = name\n",
    "        self.age = age\n",
    "        self.city = city\n",
    "    def __repr__(self):\n",
    "        return \"Person(name={},age={},city={})\".format(self.name,self.age,self.city)\n",
    "    def __eq__(self,other):\n",
    "        return (self.name,self.age,self.city)==(other.name,other.age,other.city)\n",
    "\n",
    "p1 = Person('Sourav',29,'Narail')\n",
    "p2 = Person('Sourav',29,'Narail')\n",
    "print(p1)\n",
    "print(p1==p2)\n",
    "        "
   ]
  },
  {
   "cell_type": "code",
   "execution_count": 45,
   "id": "7903f519-4056-4792-8013-d5abd5f180a8",
   "metadata": {},
   "outputs": [
    {
     "name": "stdout",
     "output_type": "stream",
     "text": [
      "False\n"
     ]
    },
    {
     "data": {
      "text/plain": [
       "{'name': 'Sourav', 'age': 29, 'city': 'Narail', 'is_senior': False}"
      ]
     },
     "execution_count": 45,
     "metadata": {},
     "output_type": "execute_result"
    }
   ],
   "source": [
    "from dataclasses import dataclass, field,asdict\n",
    "\n",
    "@dataclass\n",
    "class Person:\n",
    "    name: str\n",
    "    age: int\n",
    "    city: str\n",
    "    is_senior: bool = field(init=False)\n",
    "\n",
    "    def __post_init__(self):\n",
    "        if self.age >= 45:\n",
    "            self.is_senior = True\n",
    "        else:\n",
    "            self.is_senior = False\n",
    "\n",
    "p1 = Person(\"Sourav\", 29, \"Narail\")\n",
    "print(p1.is_senior)\n",
    "asdict(p1)\n"
   ]
  },
  {
   "cell_type": "code",
   "execution_count": 11,
   "id": "7e09ab33-537e-4f30-8e7c-f68b42cdf654",
   "metadata": {},
   "outputs": [
    {
     "name": "stdout",
     "output_type": "stream",
     "text": [
      "4999999950000000\n"
     ]
    }
   ],
   "source": [
    "from functools import cached_property \n",
    "\n",
    "class Myclass:\n",
    "    @cached_property\n",
    "    def add(self):\n",
    "        result = 0\n",
    "        for i in range(0,100000000):\n",
    "            result = result+i\n",
    "        return result\n",
    "obj = Myclass()\n",
    "addition_result = obj.add\n",
    "print(addition_result)"
   ]
  },
  {
   "cell_type": "code",
   "execution_count": 23,
   "id": "a44e3f66-778f-40cc-b72b-6f939cbd725d",
   "metadata": {},
   "outputs": [
    {
     "name": "stdout",
     "output_type": "stream",
     "text": [
      "Sleeping 1 sec ...\n",
      "Done sleeping.\n",
      "Sleeping 1 sec ...\n",
      "Done sleeping.\n",
      "Finished in 2 sec.\n"
     ]
    }
   ],
   "source": [
    "# Concurrency and Parallelism\n",
    "# Threading\n",
    "\n",
    "import time \n",
    "\n",
    "start = time.perf_counter()\n",
    "def do_something():\n",
    "    print(\"Sleeping 1 sec ...\")\n",
    "    time.sleep(1)\n",
    "    print(\"Done sleeping.\")\n",
    "\n",
    "do_something()\n",
    "do_something()\n",
    "finish = time.perf_counter()\n",
    "print(f\"Finished in {round(finish-start)} sec.\")"
   ]
  },
  {
   "cell_type": "code",
   "execution_count": null,
   "id": "ccb442c1-a8fe-435a-980e-b88a1af55e10",
   "metadata": {},
   "outputs": [],
   "source": []
  },
  {
   "cell_type": "code",
   "execution_count": 24,
   "id": "1b9ae544-fb3e-4228-81a5-837e912b6190",
   "metadata": {},
   "outputs": [
    {
     "name": "stdout",
     "output_type": "stream",
     "text": [
      "Sleeping 1 sec ...\n",
      "Sleeping 1 sec ...\n",
      "Done sleeping.Done sleeping.\n",
      "\n",
      "Finished in 1 sec.\n"
     ]
    }
   ],
   "source": [
    "import threading\n",
    "import time \n",
    "\n",
    "start = time.perf_counter()\n",
    "def do_something():\n",
    "    print(\"Sleeping 1 sec ...\")\n",
    "    time.sleep(1)\n",
    "    print(\"Done sleeping.\")\n",
    "\n",
    "t1 = threading.Thread(target = do_something)\n",
    "t2 = threading.Thread(target = do_something)\n",
    "t1.start()\n",
    "t2.start()\n",
    "\n",
    "t1.join()\n",
    "t2.join()\n",
    "finish = time.perf_counter()\n",
    "print(f\"Finished in {round(finish-start)} sec.\")"
   ]
  },
  {
   "cell_type": "code",
   "execution_count": 27,
   "id": "63bd79b9-ad88-47d3-ace1-fb65d3f9494a",
   "metadata": {},
   "outputs": [
    {
     "name": "stdout",
     "output_type": "stream",
     "text": [
      "Sleeping 1 sec ...\n",
      "Sleeping 1 sec ...\n",
      "Sleeping 1 sec ...\n",
      "Sleeping 1 sec ...\n",
      "Sleeping 1 sec ...\n",
      "Sleeping 1 sec ...\n",
      "Sleeping 1 sec ...\n",
      "Sleeping 1 sec ...\n",
      "Sleeping 1 sec ...\n",
      "Sleeping 1 sec ...\n",
      "Done sleeping.Done sleeping.\n",
      "Done sleeping.\n",
      "Done sleeping.\n",
      "Done sleeping.\n",
      "Done sleeping.\n",
      "Done sleeping.\n",
      "\n",
      "Done sleeping.\n",
      "Done sleeping.\n",
      "Done sleeping.\n",
      "Finished in 1 sec.\n"
     ]
    }
   ],
   "source": [
    "import threading\n",
    "import time \n",
    "\n",
    "start = time.perf_counter()\n",
    "def do_something(sec):\n",
    "    print(f\"Sleeping {sec} sec ...\")\n",
    "    time.sleep(sec)\n",
    "    print(\"Done sleeping.\")\n",
    "threads = []\n",
    "for _ in range(10):\n",
    "    t = threading.Thread(target = do_something, args=[1])\n",
    "    t.start()\n",
    "    threads.append(t)\n",
    "\n",
    "for thread in threads:\n",
    "    thread.join()\n",
    "finish = time.perf_counter()\n",
    "print(f\"Finished in {round(finish-start)} sec.\")"
   ]
  },
  {
   "cell_type": "code",
   "execution_count": 30,
   "id": "45d80074-b20f-4037-9735-d454d8a92182",
   "metadata": {},
   "outputs": [
    {
     "name": "stdout",
     "output_type": "stream",
     "text": [
      "Sleeping 1 sec ...\n",
      "Sleeping 1 sec ...\n",
      "Done sleeping.\n",
      "Done sleeping.\n",
      "Finished in 1 sec.\n"
     ]
    }
   ],
   "source": [
    "# Thread pool executer\n",
    "import concurrent.futures\n",
    "import time\n",
    "\n",
    "start = time.perf_counter()\n",
    "\n",
    "def do_something(sec):\n",
    "    print(f\"Sleeping {sec} sec ...\")\n",
    "    time.sleep(sec)\n",
    "    print(\"Done sleeping.\")\n",
    "\n",
    "with concurrent.futures.ThreadPoolExecutor() as executor:\n",
    "    f1 = executor.submit(do_something, 1)\n",
    "    f2 = executor.submit(do_something, 1)\n",
    "\n",
    "finish = time.perf_counter()\n",
    "print(f\"Finished in {round(finish-start)} sec.\")\n"
   ]
  },
  {
   "cell_type": "code",
   "execution_count": 34,
   "id": "c207c7c9-2d9a-413c-8726-c8d1c1c3b8eb",
   "metadata": {},
   "outputs": [
    {
     "name": "stdout",
     "output_type": "stream",
     "text": [
      "Sleeping 1 sec ...\n",
      "Sleeping 2 sec ...\n",
      "Sleeping 3 sec ...\n",
      "Sleeping 4 sec ...\n",
      "Sleeping 5 sec ...\n",
      "Done sleeping.\n",
      "Done sleeping.\n",
      "Done sleeping.\n",
      "Done sleeping.\n",
      "Done sleeping.\n",
      "Finished in 5 sec.\n"
     ]
    }
   ],
   "source": [
    "import concurrent.futures\n",
    "import time\n",
    "\n",
    "start = time.perf_counter()\n",
    "\n",
    "def do_something(sec):\n",
    "    print(f\"Sleeping {sec} sec ...\")\n",
    "    time.sleep(sec)\n",
    "    return \"Done sleeping.\"\n",
    "\n",
    "with concurrent.futures.ThreadPoolExecutor() as executor:\n",
    "    secs = [1,2,3,4,5]\n",
    "    result = [executor.submit(do_something, sec) for sec in secs]\n",
    "    for f in concurrent.futures.as_completed(result):\n",
    "        print(f.result())\n",
    "\n",
    "finish = time.perf_counter()\n",
    "print(f\"Finished in {round(finish-start)} sec.\")"
   ]
  },
  {
   "cell_type": "code",
   "execution_count": 37,
   "id": "cc3df988-666b-47ff-a8e9-6598f9d97e51",
   "metadata": {},
   "outputs": [
    {
     "name": "stdout",
     "output_type": "stream",
     "text": [
      "photo-1507143550189-fed454f93097.jpg was downloaded...\n",
      "photo-1513938709626-033611b8cc03.jpg was downloaded...\n",
      "photo-1516117172878-fd2c41f4a759.jpg was downloaded...\n",
      "photo-1516972810927-80185027ca84.jpg was downloaded...\n",
      "photo-1532009324734-20a7a5813719.jpg was downloaded...\n",
      "photo-1549692520-acc6669e2f0c.jpg was downloaded...\n",
      "photo-1541698444083-023c97d3f4b6.jpg was downloaded...\n",
      "photo-1550439062-609e1531270e.jpg was downloaded...\n",
      "photo-1522364723953-452d3431c267.jpg was downloaded...\n",
      "photo-1524429656589-6633a470097c.jpg was downloaded...\n",
      "photo-1530122037265-a5f1f91d3b99.jpg was downloaded...\n",
      "photo-1504198453319-5ce911bafcde.jpg was downloaded...\n",
      "photo-1530224264768-7ff8c1789d79.jpg was downloaded...\n",
      "photo-1564135624576-c5c88640f235.jpg was downloaded...\n",
      "photo-1493976040374-85c8e12f0c0e.jpg was downloaded...\n",
      "Finished in 3.0474828999977035 seconds\n"
     ]
    }
   ],
   "source": [
    "import requests\n",
    "import time\n",
    "import concurrent.futures\n",
    "\n",
    "img_urls = [\n",
    "    'https://images.unsplash.com/photo-1516117172878-fd2c41f4a759',\n",
    "    'https://images.unsplash.com/photo-1532009324734-20a7a5813719',\n",
    "    'https://images.unsplash.com/photo-1524429656589-6633a470097c',\n",
    "    'https://images.unsplash.com/photo-1530224264768-7ff8c1789d79',\n",
    "    'https://images.unsplash.com/photo-1564135624576-c5c88640f235',\n",
    "    'https://images.unsplash.com/photo-1541698444083-023c97d3f4b6',\n",
    "    'https://images.unsplash.com/photo-1522364723953-452d3431c267',\n",
    "    'https://images.unsplash.com/photo-1513938709626-033611b8cc03',\n",
    "    'https://images.unsplash.com/photo-1507143550189-fed454f93097',\n",
    "    'https://images.unsplash.com/photo-1493976040374-85c8e12f0c0e',\n",
    "    'https://images.unsplash.com/photo-1504198453319-5ce911bafcde',\n",
    "    'https://images.unsplash.com/photo-1530122037265-a5f1f91d3b99',\n",
    "    'https://images.unsplash.com/photo-1516972810927-80185027ca84',\n",
    "    'https://images.unsplash.com/photo-1550439062-609e1531270e',\n",
    "    'https://images.unsplash.com/photo-1549692520-acc6669e2f0c'\n",
    "]\n",
    "\n",
    "t1 = time.perf_counter()\n",
    "\n",
    "\n",
    "def download_image(img_url):\n",
    "    img_bytes = requests.get(img_url).content\n",
    "    img_name = img_url.split('/')[3]\n",
    "    img_name = f'{img_name}.jpg'\n",
    "    with open(img_name, 'wb') as img_file:\n",
    "        img_file.write(img_bytes)\n",
    "        print(f'{img_name} was downloaded...')\n",
    "\n",
    "\n",
    "with concurrent.futures.ThreadPoolExecutor() as executor:\n",
    "    executor.map(download_image, img_urls)\n",
    "\n",
    "\n",
    "t2 = time.perf_counter()\n",
    "\n",
    "print(f'Finished in {t2-t1} seconds')"
   ]
  },
  {
   "cell_type": "code",
   "execution_count": 3,
   "id": "c1ba78ee-facb-4784-8229-c41fe4a94a63",
   "metadata": {},
   "outputs": [
    {
     "name": "stdout",
     "output_type": "stream",
     "text": [
      "<class 'tuple'>\n",
      "('Hello', 'World', '!')\n",
      "Hello\n",
      "World\n",
      "!\n"
     ]
    }
   ],
   "source": [
    "# Args and Kwargs in Python\n",
    "def print_args(*args):\n",
    "    print(type(args))\n",
    "    print(args)\n",
    "    for arg in args:\n",
    "        print(arg)\n",
    "print_args('Hello', 'World', '!') "
   ]
  },
  {
   "cell_type": "code",
   "execution_count": 4,
   "id": "3b1db616-dae8-4fcd-b7dc-a086f9b02368",
   "metadata": {},
   "outputs": [
    {
     "name": "stdout",
     "output_type": "stream",
     "text": [
      "{'name': 'John', 'age': 25, 'city': 'New York'}\n",
      "name John\n",
      "age 25\n",
      "city New York\n"
     ]
    }
   ],
   "source": [
    "# Args and Kwargs in Python\n",
    "def print_kwargs(**kwargs):\n",
    "    print(kwargs)\n",
    "    for key, value in kwargs.items():\n",
    "        print(key, value)\n",
    "print_kwargs(name='John', age=25, city='New York')"
   ]
  },
  {
   "cell_type": "code",
   "execution_count": 8,
   "id": "e17e7c2f-329a-44cc-91a5-42eb85db43f5",
   "metadata": {},
   "outputs": [
    {
     "name": "stdout",
     "output_type": "stream",
     "text": [
      "[1, 2, [3, 5]]\n",
      "[1, 2, [3, 5]]\n",
      "[1, 2, [3, 4]]\n",
      "[1, 2, [5, 4]]\n"
     ]
    }
   ],
   "source": [
    "# Shallow copy and deep copy\n",
    "import copy\n",
    "list1 = [1,2,[4,5]]\n",
    "shallow_copied_list = copy.copy(list1)\n",
    "shallow_copied_list [2][0] = 3\n",
    "print(list1)\n",
    "print(shallow_copied_list)\n",
    "list2 = [1,2,[3,4]]\n",
    "deep_copied_list = copy.deepcopy(list2)\n",
    "deep_copied_list[2][0]=5\n",
    "print(list2)\n",
    "print(deep_copied_list)\n",
    "      "
   ]
  },
  {
   "cell_type": "code",
   "execution_count": 20,
   "id": "6124d315-228a-474f-91b4-d0f7d6d62e7e",
   "metadata": {},
   "outputs": [
    {
     "name": "stdout",
     "output_type": "stream",
     "text": [
      "(('Sourav', 29), ('Rupok', 27), ('Sudipta', 26), ('Rahi', 26))\n"
     ]
    }
   ],
   "source": [
    "# zip \n",
    "name = [\"Sourav\",\"Rupok\",\"Sudipta\",\"Rahi\"]\n",
    "age = [29,27,26,26]\n",
    "\n",
    "zipped = zip(name,age)\n",
    "print(tuple(zipped))\n",
    "for (name,age) in zipped:\n",
    "      print(name, age)\n"
   ]
  },
  {
   "cell_type": "code",
   "execution_count": 6,
   "id": "3b5f9fb2-2513-405f-be90-75241a78b0b7",
   "metadata": {},
   "outputs": [
    {
     "name": "stdout",
     "output_type": "stream",
     "text": [
      "frozenset({1, 2, 3, 4, 5})\n",
      "frozenset({'i', 'o', 'a', 'u', 'e'})\n"
     ]
    }
   ],
   "source": [
    "# Frozenset\n",
    "list1 = [1,2,3,4])\n",
    "frozen_list = frozenset(list1)\n",
    "print(frozen_list)\n",
    "list1.append(5)\n",
    "\n",
    "vowels = ('a', 'e', 'i', 'o', 'u')\n",
    "f_set = frozenset(vowels)\n",
    "print(f_set) # Output: frozenset({'a', 'e', 'i', 'o', 'u'})"
   ]
  },
  {
   "cell_type": "code",
   "execution_count": 15,
   "id": "e02c7bd4-0453-4f3a-9203-7305c31b7ac9",
   "metadata": {},
   "outputs": [
    {
     "name": "stdout",
     "output_type": "stream",
     "text": [
      "Sourav\n",
      "29\n",
      "Narail\n",
      "False\n"
     ]
    }
   ],
   "source": [
    "# getattr() - returns the value of a named attribute of an object\n",
    "class Person:\n",
    "    def __init__(self,name,age):\n",
    "        self.name = name\n",
    "        self.age = age\n",
    "\n",
    "p1 = Person(\"Sourav\",29)\n",
    "print(getattr(p1,'name'))\n",
    "print(getattr(p1,'age'))\n",
    "setattr(p1,'city','Narail')\n",
    "print(getattr(p1,'city'))\n",
    "delattr(p1,'city')\n",
    "print(hasattr(p1,'city'))"
   ]
  },
  {
   "cell_type": "code",
   "execution_count": 44,
   "id": "538cf47e-78ce-4aa7-b06d-2aaf9b184157",
   "metadata": {
    "scrolled": true
   },
   "outputs": [
    {
     "name": "stdout",
     "output_type": "stream",
     "text": [
      "This is the main coroutine.\n",
      "Sleeping 1 sec\n",
      "Sleeping 2 sec\n",
      "Sleeping 3 sec\n"
     ]
    },
    {
     "ename": "TypeError",
     "evalue": "unsupported operand type(s) for -: 'datetime.datetime' and 'builtin_function_or_method'",
     "output_type": "error",
     "traceback": [
      "\u001b[1;31m---------------------------------------------------------------------------\u001b[0m",
      "\u001b[1;31mTypeError\u001b[0m                                 Traceback (most recent call last)",
      "Cell \u001b[1;32mIn[44], line 18\u001b[0m\n\u001b[0;32m     15\u001b[0m     duration \u001b[38;5;241m=\u001b[39m datetime\u001b[38;5;241m.\u001b[39mnow() \u001b[38;5;241m-\u001b[39m start\n\u001b[0;32m     16\u001b[0m     \u001b[38;5;28mprint\u001b[39m(\u001b[38;5;124mf\u001b[39m\u001b[38;5;124m\"\u001b[39m\u001b[38;5;124mTook \u001b[39m\u001b[38;5;132;01m{\u001b[39;00mduration\u001b[38;5;241m.\u001b[39mtotal_seconds()\u001b[38;5;132;01m:\u001b[39;00m\u001b[38;5;124m.2f\u001b[39m\u001b[38;5;132;01m}\u001b[39;00m\u001b[38;5;124m seconds.\u001b[39m\u001b[38;5;124m\"\u001b[39m)\n\u001b[1;32m---> 18\u001b[0m \u001b[38;5;28;01mawait\u001b[39;00m main_fun()\n",
      "Cell \u001b[1;32mIn[44], line 15\u001b[0m, in \u001b[0;36mmain_fun\u001b[1;34m()\u001b[0m\n\u001b[0;32m     13\u001b[0m     coro_objs\u001b[38;5;241m.\u001b[39mappend(coro_func(i))\n\u001b[0;32m     14\u001b[0m \u001b[38;5;28;01mawait\u001b[39;00m asyncio\u001b[38;5;241m.\u001b[39mgather(\u001b[38;5;241m*\u001b[39mcoro_objs)\n\u001b[1;32m---> 15\u001b[0m duration \u001b[38;5;241m=\u001b[39m datetime\u001b[38;5;241m.\u001b[39mnow() \u001b[38;5;241m-\u001b[39m start\n\u001b[0;32m     16\u001b[0m \u001b[38;5;28mprint\u001b[39m(\u001b[38;5;124mf\u001b[39m\u001b[38;5;124m\"\u001b[39m\u001b[38;5;124mTook \u001b[39m\u001b[38;5;132;01m{\u001b[39;00mduration\u001b[38;5;241m.\u001b[39mtotal_seconds()\u001b[38;5;132;01m:\u001b[39;00m\u001b[38;5;124m.2f\u001b[39m\u001b[38;5;132;01m}\u001b[39;00m\u001b[38;5;124m seconds.\u001b[39m\u001b[38;5;124m\"\u001b[39m)\n",
      "\u001b[1;31mTypeError\u001b[0m: unsupported operand type(s) for -: 'datetime.datetime' and 'builtin_function_or_method'"
     ]
    }
   ],
   "source": [
    "import asyncio\n",
    "from datetime import datetime\n",
    "\n",
    "async def coro_func(sec):\n",
    "    print(f\"Sleeping {sec} sec\")\n",
    "    await asyncio.sleep(sec)\n",
    "\n",
    "async def main_fun():\n",
    "    print(\"This is the main coroutine.\")\n",
    "    start = datetime.now\n",
    "    coro_objs =[]\n",
    "    for i in range(1,4):\n",
    "        coro_objs.append(coro_func(i))\n",
    "    await asyncio.gather(*coro_objs)\n",
    "    duration = datetime.now() - start\n",
    "    print(f\"Took {duration.total_seconds():.2f} seconds.\")\n",
    "\n",
    "await main_fun()\n"
   ]
  },
  {
   "cell_type": "code",
   "execution_count": 6,
   "id": "b7cee4ed-463a-4e68-b714-50daf45fbcbc",
   "metadata": {},
   "outputs": [
    {
     "name": "stdout",
     "output_type": "stream",
     "text": [
      "Scraping https://www.superdataminer.com/posts/66cff907ce8e\n",
      "Scraping https://www.superdataminer.com/posts/f21878c9897\n",
      "Scraping https://www.superdataminer.com/posts/b24dec228c43\n",
      "https://www.superdataminer.com/posts/66cff907ce8e -> 67595\n",
      "https://www.superdataminer.com/posts/f21878c9897 -> 67594\n",
      "https://www.superdataminer.com/posts/b24dec228c43 -> 67595\n"
     ]
    }
   ],
   "source": [
    "import asyncio\n",
    "import aiohttp\n",
    "\n",
    "async def scrape_page(session, url):\n",
    "    print(f\"Scraping {url}\")\n",
    "    async with session.get(url) as resp:\n",
    "        return len(await resp.text())\n",
    "\n",
    "async def main():\n",
    "    urls = [\n",
    "        \"https://www.superdataminer.com/posts/66cff907ce8e\",\n",
    "        \"https://www.superdataminer.com/posts/f21878c9897\",\n",
    "        \"https://www.superdataminer.com/posts/b24dec228c43\"\n",
    "    ]\n",
    "\n",
    "    coro_objs = []\n",
    "\n",
    "    async with aiohttp.ClientSession() as session:\n",
    "        for url in urls:\n",
    "            coro_objs.append(\n",
    "                scrape_page(session, url)\n",
    "            )\n",
    "    \n",
    "        results = await asyncio.gather(*coro_objs)\n",
    "\n",
    "    for url, length in zip(urls, results):\n",
    "        print(f\"{url} -> {length}\")\n",
    "\n",
    "await main()"
   ]
  },
  {
   "cell_type": "code",
   "execution_count": 4,
   "id": "81f1278b-a9f6-40ff-9655-d8a2d580f0d6",
   "metadata": {},
   "outputs": [
    {
     "name": "stdout",
     "output_type": "stream",
     "text": [
      "Requirement already satisfied: pip in c:\\users\\56053\\appdata\\local\\programs\\python\\python38\\lib\\site-packages (21.1.1)Note: you may need to restart the kernel to use updated packages.\n",
      "\n",
      "Collecting pip\n",
      "  Downloading pip-24.0-py3-none-any.whl (2.1 MB)\n",
      "Installing collected packages: pip\n",
      "  Attempting uninstall: pip\n",
      "    Found existing installation: pip 21.1.1\n",
      "    Uninstalling pip-21.1.1:\n",
      "      Successfully uninstalled pip-21.1.1\n",
      "Successfully installed pip-24.0\n"
     ]
    }
   ],
   "source": [
    "pip install --upgrade pip"
   ]
  },
  {
   "cell_type": "code",
   "execution_count": 5,
   "id": "64fd06ee-4001-40d2-a7b2-f9eeba11049a",
   "metadata": {},
   "outputs": [
    {
     "name": "stdout",
     "output_type": "stream",
     "text": [
      "Requirement already satisfied: aiohttp in c:\\users\\56053\\appdata\\local\\programs\\python\\python38\\lib\\site-packages (3.9.5)\n",
      "Requirement already satisfied: aiosignal>=1.1.2 in c:\\users\\56053\\appdata\\local\\programs\\python\\python38\\lib\\site-packages (from aiohttp) (1.3.1)\n",
      "Requirement already satisfied: attrs>=17.3.0 in c:\\users\\56053\\appdata\\local\\programs\\python\\python38\\lib\\site-packages (from aiohttp) (23.2.0)\n",
      "Requirement already satisfied: frozenlist>=1.1.1 in c:\\users\\56053\\appdata\\local\\programs\\python\\python38\\lib\\site-packages (from aiohttp) (1.4.1)\n",
      "Requirement already satisfied: multidict<7.0,>=4.5 in c:\\users\\56053\\appdata\\local\\programs\\python\\python38\\lib\\site-packages (from aiohttp) (6.0.5)\n",
      "Requirement already satisfied: yarl<2.0,>=1.0 in c:\\users\\56053\\appdata\\local\\programs\\python\\python38\\lib\\site-packages (from aiohttp) (1.9.4)\n",
      "Requirement already satisfied: async-timeout<5.0,>=4.0 in c:\\users\\56053\\appdata\\local\\programs\\python\\python38\\lib\\site-packages (from aiohttp) (4.0.3)\n",
      "Requirement already satisfied: idna>=2.0 in c:\\users\\56053\\appdata\\local\\programs\\python\\python38\\lib\\site-packages (from yarl<2.0,>=1.0->aiohttp) (3.7)\n",
      "Note: you may need to restart the kernel to use updated packages.\n"
     ]
    }
   ],
   "source": [
    "pip install aiohttp"
   ]
  },
  {
   "cell_type": "code",
   "execution_count": 1,
   "id": "bb0f965a-6309-4736-9b65-3e743f5fac15",
   "metadata": {},
   "outputs": [],
   "source": [
    "import multiprocessing\n",
    "\n",
    "def worker():\n",
    "    print(\"Worker \")\n",
    "\n",
    "p = multiprocessing.Process(target = worker)\n",
    "p.start()\n"
   ]
  },
  {
   "cell_type": "code",
   "execution_count": 14,
   "id": "f5bed34c-f173-464f-a4bc-05745efa07e5",
   "metadata": {},
   "outputs": [
    {
     "name": "stdout",
     "output_type": "stream",
     "text": [
      "[0, 1, 4, 9, 16, 25, 36, 49, 64, 81]\n",
      "{0: 0, 1: 1, 2: 4, 3: 9, 4: 16, 5: 25, 6: 36, 7: 49, 8: 64, 9: 81}\n",
      "{0, 1, 64, 4, 36, 9, 16, 49, 81, 25}\n",
      "(0, 1, 4, 9, 16, 25, 36, 49, 64, 81)\n"
     ]
    }
   ],
   "source": [
    "squares = [x**2 for x in range(10)]         # List comprehension\n",
    "num2square = {x: x**2 for x in range(10)}   # Dict comprehension\n",
    "unique_squares = {x**2 for x in range(10)}  # Set  comprehension\n",
    "\n",
    "experiment = tuple(x**2 for x in range(10)) \n",
    "print(squares)\n",
    "print(num2square)\n",
    "print(unique_squares)\n",
    "print(experiment)"
   ]
  },
  {
   "cell_type": "code",
   "execution_count": 21,
   "id": "ca317627-5502-422f-8b34-2a02cfa8b5bf",
   "metadata": {},
   "outputs": [
    {
     "name": "stdout",
     "output_type": "stream",
     "text": [
      "Sourav Singha\n",
      "Sourav Singha\n",
      "('Sourav', 'Singha')\n"
     ]
    }
   ],
   "source": [
    "# Multiple Return Values\n",
    "def multiple_return_values():\n",
    "    first_name = \"Sourav\"\n",
    "    last_name = \"Singha\"\n",
    "    return first_name, last_name\n",
    "first_name, last_name = multiple_return_values()\n",
    "print(first_name, last_name)\n",
    "result = multiple_return_values()\n",
    "first_name, last_name = result\n",
    "print(first_name, last_name)\n",
    "print(result)"
   ]
  },
  {
   "cell_type": "code",
   "execution_count": 32,
   "id": "f55b1f94-4b2f-41aa-b7a9-edaa5f8a9c49",
   "metadata": {},
   "outputs": [
    {
     "name": "stdout",
     "output_type": "stream",
     "text": [
      "[1, 4, 9, 16, 25]\n",
      "[2, 4]\n",
      "15\n"
     ]
    }
   ],
   "source": [
    "# Higher Order Function\n",
    "from functools import reduce\n",
    "\n",
    "def square(x):\n",
    "    return x*x\n",
    "numbers = [1, 2, 3, 4, 5]\n",
    "square_list = list(map(square,numbers))\n",
    "print(square_list)\n",
    "\n",
    "def is_even(x):\n",
    "    return x % 2 ==0\n",
    "even_numbers = list(filter(is_even, numbers))\n",
    "print(even_numbers)\n",
    "\n",
    "def add(x,y):\n",
    "    return x+y\n",
    "\n",
    "added_number = reduce(add,numbers)\n",
    "print(added_number)"
   ]
  },
  {
   "cell_type": "code",
   "execution_count": null,
   "id": "f14b0160-8541-4f32-a6d6-189ccd8cde16",
   "metadata": {},
   "outputs": [],
   "source": []
  }
 ],
 "metadata": {
  "kernelspec": {
   "display_name": "Python 3 (ipykernel)",
   "language": "python",
   "name": "python3"
  },
  "language_info": {
   "codemirror_mode": {
    "name": "ipython",
    "version": 3
   },
   "file_extension": ".py",
   "mimetype": "text/x-python",
   "name": "python",
   "nbconvert_exporter": "python",
   "pygments_lexer": "ipython3",
   "version": "3.8.10"
  }
 },
 "nbformat": 4,
 "nbformat_minor": 5
}
