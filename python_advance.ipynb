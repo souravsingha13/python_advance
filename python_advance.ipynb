{
 "cells": [
  {
   "cell_type": "code",
   "execution_count": 29,
   "id": "073403d5-3fc1-4cb6-a8f5-5d925bea0393",
   "metadata": {},
   "outputs": [
    {
     "name": "stdout",
     "output_type": "stream",
     "text": [
      "[1, 4, 9, 16, 25]\n",
      "[1, 4, 9, 16, 25]\n",
      "[4, 8, 6, 5, 3, 2, 8, 9, 2, 5]\n",
      "[2, 1, 0, 1, 2]\n",
      "[7, 2, 4, 6]\n",
      "[1, 1, 1]\n",
      "['Processing', 'Strings', 'With', 'Map']\n",
      "['PROCESSING', 'STRINGS', 'WITH', 'MAP']\n",
      "[1, 4, 9, 16, 25]\n"
     ]
    }
   ],
   "source": [
    "# Python map function\n",
    "\n",
    "# Normal Process\n",
    "numbers = [1, 2, 3, 4, 5]\n",
    "square = []\n",
    "for item in numbers:\n",
    "    square.append(item**2)\n",
    "print(square)\n",
    "\n",
    "#Using map\n",
    "\n",
    "def square(item):\n",
    "    return item**2\n",
    "\n",
    "squared = map(square, numbers)\n",
    "# for item in squared:\n",
    "#     print(item)\n",
    "print(list(squared))\n",
    "\n",
    "# Convert all the items in a list from a string to an integer number\n",
    "str_nums = [\"4\", \"8\", \"6\", \"5\", \"3\", \"2\", \"8\", \"9\", \"2\", \"5\"]\n",
    "int_nums = map(int,str_nums)\n",
    "print(list(int_nums))\n",
    "\n",
    "#Use build in function in map \n",
    "number_list = [-2, -1, 0, 1, 2]\n",
    "absulate_value = list(map(abs,number_list))\n",
    "print(absulate_value)\n",
    "# Return length of a words list\n",
    "words = [\"Welcome\", \"to\", \"Real\", \"Python\"]\n",
    "length = list(map(len,words))\n",
    "print(length)\n",
    "\n",
    "\n",
    "#Use lambda function in map\n",
    "print(list(map(lambda x,y : x-y, [2, 4, 6], [1, 3, 5])))\n",
    "\n",
    "# Capitalize word\n",
    "string_it = [\"processing\", \"strings\", \"with\", \"map\"]\n",
    "print(list(map(str.capitalize , string_it)))\n",
    "print(list(map(str.upper , string_it)))\n",
    "\n",
    "#list comprehension\n",
    "print([square(x) for x in numbers])"
   ]
  },
  {
   "cell_type": "code",
   "execution_count": null,
   "id": "391a111c-e611-4f63-9043-1d4a018ee1cd",
   "metadata": {},
   "outputs": [],
   "source": []
  },
  {
   "cell_type": "code",
   "execution_count": null,
   "id": "63512a20-4984-4c32-82b5-686cc1ac3bd2",
   "metadata": {},
   "outputs": [],
   "source": []
  }
 ],
 "metadata": {
  "kernelspec": {
   "display_name": "Python 3 (ipykernel)",
   "language": "python",
   "name": "python3"
  },
  "language_info": {
   "codemirror_mode": {
    "name": "ipython",
    "version": 3
   },
   "file_extension": ".py",
   "mimetype": "text/x-python",
   "name": "python",
   "nbconvert_exporter": "python",
   "pygments_lexer": "ipython3",
   "version": "3.8.10"
  }
 },
 "nbformat": 4,
 "nbformat_minor": 5
}
