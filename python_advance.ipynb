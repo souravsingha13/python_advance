{
 "cells": [
  {
   "cell_type": "code",
   "execution_count": 29,
   "id": "073403d5-3fc1-4cb6-a8f5-5d925bea0393",
   "metadata": {},
   "outputs": [
    {
     "name": "stdout",
     "output_type": "stream",
     "text": [
      "[1, 4, 9, 16, 25]\n",
      "[1, 4, 9, 16, 25]\n",
      "[4, 8, 6, 5, 3, 2, 8, 9, 2, 5]\n",
      "[2, 1, 0, 1, 2]\n",
      "[7, 2, 4, 6]\n",
      "[1, 1, 1]\n",
      "['Processing', 'Strings', 'With', 'Map']\n",
      "['PROCESSING', 'STRINGS', 'WITH', 'MAP']\n",
      "[1, 4, 9, 16, 25]\n"
     ]
    }
   ],
   "source": [
    "# Python map function\n",
    "\n",
    "# Normal Process\n",
    "numbers = [1, 2, 3, 4, 5]\n",
    "square = []\n",
    "for item in numbers:\n",
    "    square.append(item**2)\n",
    "print(square)\n",
    "\n",
    "#Using map\n",
    "\n",
    "def square(item):\n",
    "    return item**2\n",
    "\n",
    "squared = map(square, numbers)\n",
    "# for item in squared:\n",
    "#     print(item)\n",
    "print(list(squared))\n",
    "\n",
    "# Convert all the items in a list from a string to an integer number\n",
    "str_nums = [\"4\", \"8\", \"6\", \"5\", \"3\", \"2\", \"8\", \"9\", \"2\", \"5\"]\n",
    "int_nums = map(int,str_nums)\n",
    "print(list(int_nums))\n",
    "\n",
    "#Use build in function in map \n",
    "number_list = [-2, -1, 0, 1, 2]\n",
    "absulate_value = list(map(abs,number_list))\n",
    "print(absulate_value)\n",
    "# Return length of a words list\n",
    "words = [\"Welcome\", \"to\", \"Real\", \"Python\"]\n",
    "length = list(map(len,words))\n",
    "print(length)\n",
    "\n",
    "\n",
    "#Use lambda function in map\n",
    "print(list(map(lambda x,y : x-y, [2, 4, 6], [1, 3, 5])))\n",
    "\n",
    "# Capitalize word\n",
    "string_it = [\"processing\", \"strings\", \"with\", \"map\"]\n",
    "print(list(map(str.capitalize , string_it)))\n",
    "print(list(map(str.upper , string_it)))\n",
    "\n",
    "#list comprehension\n",
    "print([square(x) for x in numbers])"
   ]
  },
  {
   "cell_type": "code",
   "execution_count": 3,
   "id": "391a111c-e611-4f63-9043-1d4a018ee1cd",
   "metadata": {},
   "outputs": [
    {
     "name": "stdout",
     "output_type": "stream",
     "text": [
      "<function outter_function.<locals>.inner_function at 0x0000023C6D74A3A0>\n",
      "20\n"
     ]
    }
   ],
   "source": [
    "#Closure \n",
    "def outter_function(x):\n",
    "    def inner_function(n):\n",
    "        return x*n\n",
    "    return inner_function\n",
    "a = outter_function(5)\n",
    "print(a)\n",
    "b = a(4)\n",
    "print(b)"
   ]
  },
  {
   "cell_type": "code",
   "execution_count": 5,
   "id": "63512a20-4984-4c32-82b5-686cc1ac3bd2",
   "metadata": {},
   "outputs": [
    {
     "name": "stdout",
     "output_type": "stream",
     "text": [
      "Before the my fun is called.\n",
      "Hello from my fun.\n",
      "After the my fun is called.\n"
     ]
    }
   ],
   "source": [
    "# Decorators \n",
    "def my_decorator(my_fun):\n",
    "    def wrapper():\n",
    "        print(\"Before the my fun is called.\")\n",
    "        my_fun()\n",
    "        print(\"After the my fun is called.\")\n",
    "    return wrapper\n",
    "\n",
    "@my_decorator\n",
    "def my_fun():\n",
    "    print(\"Hello from my fun.\")\n",
    "my_fun()"
   ]
  },
  {
   "cell_type": "code",
   "execution_count": 11,
   "id": "44825059-b732-4e53-b00b-5e5b2b502e48",
   "metadata": {},
   "outputs": [
    {
     "name": "stdout",
     "output_type": "stream",
     "text": [
      "This is from __init__.\n",
      "<__main__.MyDecorator object at 0x0000023C6D7690D0>\n",
      "This is from __call__.\n",
      "None\n",
      "Test is calling.\n",
      "Test is calling.\n"
     ]
    }
   ],
   "source": [
    "# Prerequisite for Class based decorator\n",
    "\n",
    "class MyDecorator:\n",
    "    def __init__(self):\n",
    "        print(\"This is from __init__.\")\n",
    "    def __call__(self):\n",
    "        print(\"This is from __call__.\")\n",
    "# __init__ method is invoked immediate after intiating the class.\n",
    "a = MyDecorator()\n",
    "print(a)\n",
    "# __call__ method is invoked after initiate the instance.\n",
    "# Instances of classes can be made callable by defining a __call__ method in their class.\n",
    "b=a()\n",
    "print(b)\n",
    "\n",
    "def test():\n",
    "    print(\"Test is calling.\")\n",
    "# When we call a function by -> () that indirectly call __call__().So the following two lines of code are same. \n",
    "test()\n",
    "test.__call__()\n",
    "        "
   ]
  },
  {
   "cell_type": "code",
   "execution_count": 14,
   "id": "6929967a-c6ab-4003-a358-4dad20a45a90",
   "metadata": {},
   "outputs": [
    {
     "name": "stdout",
     "output_type": "stream",
     "text": [
      "Before calling my_fun.\n",
      "Hello from my_fun.\n",
      "After calling my_fun.\n"
     ]
    }
   ],
   "source": [
    "# Class based decorator\n",
    "class MyDecorator:\n",
    "    def __init__(self, my_fun):\n",
    "        self.my_fun = my_fun\n",
    "    def __call__(self):\n",
    "        print(\"Before calling my_fun.\")\n",
    "        self.my_fun()\n",
    "        print(\"After calling my_fun.\")\n",
    "\n",
    "@MyDecorator\n",
    "def my_fun():\n",
    "    print(\"Hello from my_fun.\")\n",
    "my_fun()"
   ]
  },
  {
   "cell_type": "code",
   "execution_count": 1,
   "id": "b2c8d099-1f60-4b39-8c31-cbf1a227bc95",
   "metadata": {},
   "outputs": [
    {
     "name": "stdout",
     "output_type": "stream",
     "text": [
      "Sourav\n",
      "sudipto\n",
      "3\n"
     ]
    }
   ],
   "source": [
    "# @classmethod decorator\n",
    "\n",
    "class Person:\n",
    "  total_person = 0\n",
    "  def __init__(self, name, age):\n",
    "    self.name = name\n",
    "    self.age = age\n",
    "    Person.total_person += 1\n",
    "  \n",
    "  @classmethod\n",
    "  def create_from_string(cls, data_string):\n",
    "    name, age = data_string.split(',')\n",
    "    return cls(name, int(age))\n",
    "  \n",
    "  @classmethod\n",
    "  def get_total_person(cls):\n",
    "    return cls.total_person\n",
    "  \n",
    "person1 = Person(\"Sourav\", 29)\n",
    "person2 = Person(\"Reza\", 29)\n",
    "\n",
    "\n",
    "print(person1.name)\n",
    "\n",
    "person3 = Person.create_from_string(\"sudipto,27\")\n",
    "\n",
    "print(person3.name)\n",
    "print(Person.get_total_person())"
   ]
  },
  {
   "cell_type": "code",
   "execution_count": null,
   "id": "350b2bf4-8ff1-47a1-aa9e-d2801b3f2c81",
   "metadata": {},
   "outputs": [],
   "source": []
  }
 ],
 "metadata": {
  "kernelspec": {
   "display_name": "Python 3 (ipykernel)",
   "language": "python",
   "name": "python3"
  },
  "language_info": {
   "codemirror_mode": {
    "name": "ipython",
    "version": 3
   },
   "file_extension": ".py",
   "mimetype": "text/x-python",
   "name": "python",
   "nbconvert_exporter": "python",
   "pygments_lexer": "ipython3",
   "version": "3.8.10"
  }
 },
 "nbformat": 4,
 "nbformat_minor": 5
}
